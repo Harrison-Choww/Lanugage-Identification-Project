{
 "cells": [
  {
   "cell_type": "code",
   "execution_count": 1,
   "id": "1131d0dd",
   "metadata": {},
   "outputs": [],
   "source": [
    "import pandas as pd\n",
    "import matplotlib.pyplot as plt\n",
    "import seaborn as sns\n",
    "import numpy as np\n",
    "import tarfile\n",
    "import re"
   ]
  },
  {
   "cell_type": "code",
   "execution_count": 9,
   "id": "f51df0de",
   "metadata": {},
   "outputs": [
    {
     "name": "stdout",
     "output_type": "stream",
     "text": [
      "C:\\Program Files (x86)\\Microsoft Visual Studio\\2022\\BuildTools\\VC\\Tools\\MSVC\\14.38.33130\\bin\\Hostx64\\x64 is now in the PATH.\n"
     ]
    }
   ],
   "source": [
    "import os\n",
    "\n",
    "# Replace the path with your actual path\n",
    "visual_studio_path = r'C:\\Program Files (x86)\\Microsoft Visual Studio\\2022\\BuildTools\\VC\\Tools\\MSVC\\14.38.33130\\bin\\Hostx64\\x64'\n",
    "\n",
    "# Add the path to the PATH environment variable\n",
    "os.environ['PATH'] += ';' + visual_studio_path\n",
    "\n",
    "# Check if the path is now in the PATH environment variable\n",
    "if visual_studio_path in os.environ['PATH']:\n",
    "    print(f\"{visual_studio_path} is now in the PATH.\")\n",
    "else:\n",
    "    print(f\"Failed to add {visual_studio_path} to the PATH.\")\n"
   ]
  },
  {
   "cell_type": "code",
   "execution_count": 18,
   "id": "9231e49a",
   "metadata": {},
   "outputs": [
    {
     "ename": "SyntaxError",
     "evalue": "(unicode error) 'unicodeescape' codec can't decode bytes in position 2-3: truncated \\UXXXXXXXX escape (894436919.py, line 2)",
     "output_type": "error",
     "traceback": [
      "\u001b[1;36m  Cell \u001b[1;32mIn[18], line 2\u001b[1;36m\u001b[0m\n\u001b[1;33m    print(os.environ['C:\\Users\\harri\\Downloads\\fasttext-0.9.2.tar.gz\\fasttext-0.9.2\\src'])\u001b[0m\n\u001b[1;37m                                                                                        ^\u001b[0m\n\u001b[1;31mSyntaxError\u001b[0m\u001b[1;31m:\u001b[0m (unicode error) 'unicodeescape' codec can't decode bytes in position 2-3: truncated \\UXXXXXXXX escape\n"
     ]
    }
   ],
   "source": [
    "import os\n",
    "print(os.environ['C:\\Users\\harri\\Downloads\\fasttext-0.9.2.tar.gz\\fasttext-0.9.2\\src'])\n"
   ]
  },
  {
   "cell_type": "code",
   "execution_count": 80,
   "id": "144d298c",
   "metadata": {},
   "outputs": [
    {
     "data": {
      "text/html": [
       "<div>\n",
       "<style scoped>\n",
       "    .dataframe tbody tr th:only-of-type {\n",
       "        vertical-align: middle;\n",
       "    }\n",
       "\n",
       "    .dataframe tbody tr th {\n",
       "        vertical-align: top;\n",
       "    }\n",
       "\n",
       "    .dataframe thead th {\n",
       "        text-align: right;\n",
       "    }\n",
       "</style>\n",
       "<table border=\"1\" class=\"dataframe\">\n",
       "  <thead>\n",
       "    <tr style=\"text-align: right;\">\n",
       "      <th></th>\n",
       "      <th>lang</th>\n",
       "      <th>text</th>\n",
       "    </tr>\n",
       "  </thead>\n",
       "  <tbody>\n",
       "    <tr>\n",
       "      <th>0</th>\n",
       "      <td>bg</td>\n",
       "      <td>състав на парламента: вж. протоколи</td>\n",
       "    </tr>\n",
       "    <tr>\n",
       "      <th>1</th>\n",
       "      <td>bg</td>\n",
       "      <td>одобряване на протокола от предишното заседани...</td>\n",
       "    </tr>\n",
       "    <tr>\n",
       "      <th>2</th>\n",
       "      <td>bg</td>\n",
       "      <td>състав на парламента: вж. протоколи</td>\n",
       "    </tr>\n",
       "    <tr>\n",
       "      <th>3</th>\n",
       "      <td>bg</td>\n",
       "      <td>проверка на пълномощията: вж. протоколи</td>\n",
       "    </tr>\n",
       "    <tr>\n",
       "      <th>4</th>\n",
       "      <td>bg</td>\n",
       "      <td>внасяне на документи: вж. протоколи</td>\n",
       "    </tr>\n",
       "    <tr>\n",
       "      <th>...</th>\n",
       "      <td>...</td>\n",
       "      <td>...</td>\n",
       "    </tr>\n",
       "    <tr>\n",
       "      <th>832300</th>\n",
       "      <td>sv</td>\n",
       "      <td>lannoye har just lagt fram begäran från sin gr...</td>\n",
       "    </tr>\n",
       "    <tr>\n",
       "      <th>832301</th>\n",
       "      <td>sv</td>\n",
       "      <td>vill någon yttra sig för denna begäran?</td>\n",
       "    </tr>\n",
       "    <tr>\n",
       "      <th>832302</th>\n",
       "      <td>sv</td>\n",
       "      <td>. (de) fru talman! som vi redan vid upprepade ...</td>\n",
       "    </tr>\n",
       "    <tr>\n",
       "      <th>832303</th>\n",
       "      <td>sv</td>\n",
       "      <td>vi skall nu lyssna på föredragande, fru klaß, ...</td>\n",
       "    </tr>\n",
       "    <tr>\n",
       "      <th>832304</th>\n",
       "      <td>sv</td>\n",
       "      <td>. (de) fru talman! jag motsätter mig att betän...</td>\n",
       "    </tr>\n",
       "  </tbody>\n",
       "</table>\n",
       "<p>832305 rows × 2 columns</p>\n",
       "</div>"
      ],
      "text/plain": [
       "       lang                                               text\n",
       "0        bg                състав на парламента: вж. протоколи\n",
       "1        bg  одобряване на протокола от предишното заседани...\n",
       "2        bg                състав на парламента: вж. протоколи\n",
       "3        bg            проверка на пълномощията: вж. протоколи\n",
       "4        bg                внасяне на документи: вж. протоколи\n",
       "...     ...                                                ...\n",
       "832300   sv  lannoye har just lagt fram begäran från sin gr...\n",
       "832301   sv            vill någon yttra sig för denna begäran?\n",
       "832302   sv  . (de) fru talman! som vi redan vid upprepade ...\n",
       "832303   sv  vi skall nu lyssna på föredragande, fru klaß, ...\n",
       "832304   sv  . (de) fru talman! jag motsätter mig att betän...\n",
       "\n",
       "[832305 rows x 2 columns]"
      ]
     },
     "execution_count": 80,
     "metadata": {},
     "output_type": "execute_result"
    }
   ],
   "source": [
    "headers = ['lang', 'text']\n",
    "\n",
    "df = pd.read_csv(\"europarl.csv\", header=None, names=headers)\n",
    "#df['text'] = re.sub(r'<.*?>', '', in_text).lower().strip()\n",
    "df['text'] = df['text'].astype(str)\n",
    "df['text'] = df['text'].apply(lambda x: re.sub(r'<.*?>', '', x).lower().strip())\n",
    "df"
   ]
  },
  {
   "cell_type": "code",
   "execution_count": 82,
   "id": "91991dd9",
   "metadata": {},
   "outputs": [
    {
     "name": "stdout",
     "output_type": "stream",
     "text": [
      "(832305, 2)\n"
     ]
    }
   ],
   "source": [
    "sampled_df = df.groupby('lang', group_keys=False).apply(lambda x: x.sample(min(len(x), 40000)))\n",
    "print(sampled_df.shape)"
   ]
  },
  {
   "cell_type": "code",
   "execution_count": 85,
   "id": "768c2ba0",
   "metadata": {},
   "outputs": [
    {
     "data": {
      "text/html": [
       "<div>\n",
       "<style scoped>\n",
       "    .dataframe tbody tr th:only-of-type {\n",
       "        vertical-align: middle;\n",
       "    }\n",
       "\n",
       "    .dataframe tbody tr th {\n",
       "        vertical-align: top;\n",
       "    }\n",
       "\n",
       "    .dataframe thead th {\n",
       "        text-align: right;\n",
       "    }\n",
       "</style>\n",
       "<table border=\"1\" class=\"dataframe\">\n",
       "  <thead>\n",
       "    <tr style=\"text-align: right;\">\n",
       "      <th></th>\n",
       "      <th>lang</th>\n",
       "      <th>text</th>\n",
       "    </tr>\n",
       "  </thead>\n",
       "  <tbody>\n",
       "    <tr>\n",
       "      <th>0</th>\n",
       "      <td>de</td>\n",
       "      <td>abschließend sagt die rahmenrichtlinie auch, d...</td>\n",
       "    </tr>\n",
       "    <tr>\n",
       "      <th>1</th>\n",
       "      <td>it</td>\n",
       "      <td>non dimentichiamo però una cosa, malgrado tutt...</td>\n",
       "    </tr>\n",
       "    <tr>\n",
       "      <th>2</th>\n",
       "      <td>nl</td>\n",
       "      <td>mijnheer de voorzitter, geachte collega's, de ...</td>\n",
       "    </tr>\n",
       "  </tbody>\n",
       "</table>\n",
       "</div>"
      ],
      "text/plain": [
       "  lang                                               text\n",
       "0   de  abschließend sagt die rahmenrichtlinie auch, d...\n",
       "1   it  non dimentichiamo però una cosa, malgrado tutt...\n",
       "2   nl  mijnheer de voorzitter, geachte collega's, de ..."
      ]
     },
     "execution_count": 85,
     "metadata": {},
     "output_type": "execute_result"
    }
   ],
   "source": [
    "df = sampled_df.reindex(np.random.permutation(sampled_df.index)).reset_index(drop=True)\n",
    "df[:3]"
   ]
  },
  {
   "cell_type": "code",
   "execution_count": 86,
   "id": "b4c241c6",
   "metadata": {},
   "outputs": [],
   "source": [
    "def normalize_text(row):\n",
    "    \n",
    "    label = '__label__' + str(row['lang'])\n",
    "    txt = str(row['text'])\n",
    "    \n",
    "    return ' '.join(( label + ' , ' + txt ).split())"
   ]
  },
  {
   "cell_type": "code",
   "execution_count": 87,
   "id": "c1076eb0",
   "metadata": {},
   "outputs": [],
   "source": [
    "df['normalized'] = df.apply( lambda row: normalize_text(row), axis=1 )"
   ]
  },
  {
   "cell_type": "code",
   "execution_count": 88,
   "id": "319f92dc",
   "metadata": {},
   "outputs": [],
   "source": [
    "SPLIT = 630000\n",
    "train = df['normalized'][:SPLIT].copy()\n",
    "test = df['normalized'][SPLIT:].copy()"
   ]
  },
  {
   "cell_type": "code",
   "execution_count": 95,
   "id": "c6e17b65",
   "metadata": {},
   "outputs": [],
   "source": [
    "np.savetxt('europarl_train.txt', train.values, fmt='%s', encoding='utf-8')\n",
    "np.savetxt('europarl_eval.txt', test.values, fmt='%s', encoding='utf-8')"
   ]
  },
  {
   "cell_type": "code",
   "execution_count": null,
   "id": "c296cce5",
   "metadata": {},
   "outputs": [],
   "source": []
  }
 ],
 "metadata": {
  "kernelspec": {
   "display_name": "Python 3 (ipykernel)",
   "language": "python",
   "name": "python3"
  },
  "language_info": {
   "codemirror_mode": {
    "name": "ipython",
    "version": 3
   },
   "file_extension": ".py",
   "mimetype": "text/x-python",
   "name": "python",
   "nbconvert_exporter": "python",
   "pygments_lexer": "ipython3",
   "version": "3.11.5"
  }
 },
 "nbformat": 4,
 "nbformat_minor": 5
}
